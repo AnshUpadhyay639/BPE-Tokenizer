{
  "nbformat": 4,
  "nbformat_minor": 0,
  "metadata": {
    "colab": {
      "provenance": [],
      "authorship_tag": "ABX9TyM3RCw3BAC1Q6iYdAwPy+fy",
      "include_colab_link": true
    },
    "kernelspec": {
      "name": "python3",
      "display_name": "Python 3"
    },
    "language_info": {
      "name": "python"
    }
  },
  "cells": [
    {
      "cell_type": "markdown",
      "metadata": {
        "id": "view-in-github",
        "colab_type": "text"
      },
      "source": [
        "<a href=\"https://colab.research.google.com/github/AnshUpadhyay639/BPE-Tokenizer/blob/main/BPE_Tokenizer.ipynb\" target=\"_parent\"><img src=\"https://colab.research.google.com/assets/colab-badge.svg\" alt=\"Open In Colab\"/></a>"
      ]
    },
    {
      "cell_type": "code",
      "execution_count": null,
      "metadata": {
        "id": "GCtAtZKy2zIr"
      },
      "outputs": [],
      "source": [
        "String = \"안녕하세요 👋 \""
      ]
    },
    {
      "cell_type": "code",
      "source": [
        "[ord(ch) for ch in String] # Ord(ch) : Return the Unicode code point (extended ASCII with other language chars too) for a one-character string. Eg. Space = 32 [Vocab Size of Orb() = 150K][Supports 3 encodings: UTF-8,16,32]."
      ],
      "metadata": {
        "colab": {
          "base_uri": "https://localhost:8080/"
        },
        "id": "atGnGT5M4hBg",
        "outputId": "866796ed-f979-431c-cfd9-e0f0cb17557b"
      },
      "execution_count": null,
      "outputs": [
        {
          "output_type": "execute_result",
          "data": {
            "text/plain": [
              "[50504, 45397, 54616, 49464, 50836, 32, 128075, 32]"
            ]
          },
          "metadata": {},
          "execution_count": 2
        }
      ]
    },
    {
      "cell_type": "code",
      "source": [
        "chr(50504) # Revert Back."
      ],
      "metadata": {
        "colab": {
          "base_uri": "https://localhost:8080/",
          "height": 35
        },
        "id": "FOlt9H5xqRwh",
        "outputId": "d25648ce-e9ae-47ed-b35f-d087cec40c5f"
      },
      "execution_count": null,
      "outputs": [
        {
          "output_type": "execute_result",
          "data": {
            "text/plain": [
              "'안'"
            ],
            "application/vnd.google.colaboratory.intrinsic+json": {
              "type": "string"
            }
          },
          "metadata": {},
          "execution_count": 3
        }
      ]
    },
    {
      "cell_type": "code",
      "source": [
        "list(String.encode(\"utf-8\")) # Encode in UTF-8 (4 Bytes Representation ---> 3 Digits)[Vocab size = 2^8 = 256 which is too low for us so we want to use Byte Pair Encodings]."
      ],
      "metadata": {
        "colab": {
          "base_uri": "https://localhost:8080/"
        },
        "id": "h56ZIwK4JsfC",
        "outputId": "f9c6872f-aa15-4791-82c6-2280c0134e9b"
      },
      "execution_count": null,
      "outputs": [
        {
          "output_type": "execute_result",
          "data": {
            "text/plain": [
              "[236,\n",
              " 149,\n",
              " 136,\n",
              " 235,\n",
              " 133,\n",
              " 149,\n",
              " 237,\n",
              " 149,\n",
              " 152,\n",
              " 236,\n",
              " 132,\n",
              " 184,\n",
              " 236,\n",
              " 154,\n",
              " 148,\n",
              " 32,\n",
              " 240,\n",
              " 159,\n",
              " 145,\n",
              " 139,\n",
              " 32]"
            ]
          },
          "metadata": {},
          "execution_count": 4
        }
      ]
    },
    {
      "cell_type": "code",
      "source": [
        "list(ascii(String))"
      ],
      "metadata": {
        "colab": {
          "base_uri": "https://localhost:8080/"
        },
        "id": "208nHgCw52N9",
        "outputId": "532239bf-913b-4b1f-847a-eacf0ccc329a"
      },
      "execution_count": null,
      "outputs": [
        {
          "output_type": "execute_result",
          "data": {
            "text/plain": [
              "[\"'\",\n",
              " '\\\\',\n",
              " 'u',\n",
              " 'c',\n",
              " '5',\n",
              " '4',\n",
              " '8',\n",
              " '\\\\',\n",
              " 'u',\n",
              " 'b',\n",
              " '1',\n",
              " '5',\n",
              " '5',\n",
              " '\\\\',\n",
              " 'u',\n",
              " 'd',\n",
              " '5',\n",
              " '5',\n",
              " '8',\n",
              " '\\\\',\n",
              " 'u',\n",
              " 'c',\n",
              " '1',\n",
              " '3',\n",
              " '8',\n",
              " '\\\\',\n",
              " 'u',\n",
              " 'c',\n",
              " '6',\n",
              " '9',\n",
              " '4',\n",
              " ' ',\n",
              " '\\\\',\n",
              " 'U',\n",
              " '0',\n",
              " '0',\n",
              " '0',\n",
              " '1',\n",
              " 'f',\n",
              " '4',\n",
              " '4',\n",
              " 'b',\n",
              " ' ',\n",
              " \"'\"]"
            ]
          },
          "metadata": {},
          "execution_count": 5
        }
      ]
    },
    {
      "cell_type": "markdown",
      "source": [
        "# Byte Pair Encodings:\n",
        "So we now make our vocab size larger than 256 by keeping the format same i.e.(utf-8). To do this we replace similar continuous pairs of characters with a new Character so now the Vocab_size = Vocab_size + 1 and so forth. Notice how we are also simultaneously compressing our Dataset too.\n",
        "\n",
        "**More Info:** https://en.wikipedia.org/wiki/Byte_pair_encoding"
      ],
      "metadata": {
        "id": "hSI6mDwIOOgX"
      }
    },
    {
      "cell_type": "code",
      "source": [
        "# text from https://www.reedbeta.com/blog/programmers-intro-to-unicode/\n",
        "text = \"Ｕｎｉｃｏｄｅ! 🅤🅝🅘🅒🅞🅓🅔‽ 🇺‌🇳‌🇮‌🇨‌🇴‌🇩‌🇪! 😄 The very name strikes fear and awe into the hearts of programmers worldwide. We all know we ought to “support Unicode” in our software (whatever that means—like using wchar_t for all the strings, right?). But Unicode can be abstruse, and diving into the thousand-page Unicode Standard plus its dozens of supplementary annexes, reports, and notes can be more than a little intimidating. I don’t blame programmers for still finding the whole thing mysterious, even 30 years after Unicode’s inception.\"\n",
        "tokens = list(text.encode(\"utf-8\")) # raw bytes\n",
        "#tokens = list(map(int, tokens)) Alt : To convert to a list of integers in range 0..255 for convenience\n",
        "print('---')\n",
        "print(text)\n",
        "print(\"length:\", len(text))\n",
        "print('---')\n",
        "print(tokens)\n",
        "print(\"length:\", len(tokens))"
      ],
      "metadata": {
        "colab": {
          "base_uri": "https://localhost:8080/"
        },
        "id": "CLfeZ_z055o8",
        "outputId": "9c2eeaca-06c0-4eee-c207-fb651eda1b63"
      },
      "execution_count": null,
      "outputs": [
        {
          "output_type": "stream",
          "name": "stdout",
          "text": [
            "---\n",
            "Ｕｎｉｃｏｄｅ! 🅤🅝🅘🅒🅞🅓🅔‽ 🇺‌🇳‌🇮‌🇨‌🇴‌🇩‌🇪! 😄 The very name strikes fear and awe into the hearts of programmers worldwide. We all know we ought to “support Unicode” in our software (whatever that means—like using wchar_t for all the strings, right?). But Unicode can be abstruse, and diving into the thousand-page Unicode Standard plus its dozens of supplementary annexes, reports, and notes can be more than a little intimidating. I don’t blame programmers for still finding the whole thing mysterious, even 30 years after Unicode’s inception.\n",
            "length: 533\n",
            "---\n",
            "[239, 188, 181, 239, 189, 142, 239, 189, 137, 239, 189, 131, 239, 189, 143, 239, 189, 132, 239, 189, 133, 33, 32, 240, 159, 133, 164, 240, 159, 133, 157, 240, 159, 133, 152, 240, 159, 133, 146, 240, 159, 133, 158, 240, 159, 133, 147, 240, 159, 133, 148, 226, 128, 189, 32, 240, 159, 135, 186, 226, 128, 140, 240, 159, 135, 179, 226, 128, 140, 240, 159, 135, 174, 226, 128, 140, 240, 159, 135, 168, 226, 128, 140, 240, 159, 135, 180, 226, 128, 140, 240, 159, 135, 169, 226, 128, 140, 240, 159, 135, 170, 33, 32, 240, 159, 152, 132, 32, 84, 104, 101, 32, 118, 101, 114, 121, 32, 110, 97, 109, 101, 32, 115, 116, 114, 105, 107, 101, 115, 32, 102, 101, 97, 114, 32, 97, 110, 100, 32, 97, 119, 101, 32, 105, 110, 116, 111, 32, 116, 104, 101, 32, 104, 101, 97, 114, 116, 115, 32, 111, 102, 32, 112, 114, 111, 103, 114, 97, 109, 109, 101, 114, 115, 32, 119, 111, 114, 108, 100, 119, 105, 100, 101, 46, 32, 87, 101, 32, 97, 108, 108, 32, 107, 110, 111, 119, 32, 119, 101, 32, 111, 117, 103, 104, 116, 32, 116, 111, 32, 226, 128, 156, 115, 117, 112, 112, 111, 114, 116, 32, 85, 110, 105, 99, 111, 100, 101, 226, 128, 157, 32, 105, 110, 32, 111, 117, 114, 32, 115, 111, 102, 116, 119, 97, 114, 101, 32, 40, 119, 104, 97, 116, 101, 118, 101, 114, 32, 116, 104, 97, 116, 32, 109, 101, 97, 110, 115, 226, 128, 148, 108, 105, 107, 101, 32, 117, 115, 105, 110, 103, 32, 119, 99, 104, 97, 114, 95, 116, 32, 102, 111, 114, 32, 97, 108, 108, 32, 116, 104, 101, 32, 115, 116, 114, 105, 110, 103, 115, 44, 32, 114, 105, 103, 104, 116, 63, 41, 46, 32, 66, 117, 116, 32, 85, 110, 105, 99, 111, 100, 101, 32, 99, 97, 110, 32, 98, 101, 32, 97, 98, 115, 116, 114, 117, 115, 101, 44, 32, 97, 110, 100, 32, 100, 105, 118, 105, 110, 103, 32, 105, 110, 116, 111, 32, 116, 104, 101, 32, 116, 104, 111, 117, 115, 97, 110, 100, 45, 112, 97, 103, 101, 32, 85, 110, 105, 99, 111, 100, 101, 32, 83, 116, 97, 110, 100, 97, 114, 100, 32, 112, 108, 117, 115, 32, 105, 116, 115, 32, 100, 111, 122, 101, 110, 115, 32, 111, 102, 32, 115, 117, 112, 112, 108, 101, 109, 101, 110, 116, 97, 114, 121, 32, 97, 110, 110, 101, 120, 101, 115, 44, 32, 114, 101, 112, 111, 114, 116, 115, 44, 32, 97, 110, 100, 32, 110, 111, 116, 101, 115, 32, 99, 97, 110, 32, 98, 101, 32, 109, 111, 114, 101, 32, 116, 104, 97, 110, 32, 97, 32, 108, 105, 116, 116, 108, 101, 32, 105, 110, 116, 105, 109, 105, 100, 97, 116, 105, 110, 103, 46, 32, 73, 32, 100, 111, 110, 226, 128, 153, 116, 32, 98, 108, 97, 109, 101, 32, 112, 114, 111, 103, 114, 97, 109, 109, 101, 114, 115, 32, 102, 111, 114, 32, 115, 116, 105, 108, 108, 32, 102, 105, 110, 100, 105, 110, 103, 32, 116, 104, 101, 32, 119, 104, 111, 108, 101, 32, 116, 104, 105, 110, 103, 32, 109, 121, 115, 116, 101, 114, 105, 111, 117, 115, 44, 32, 101, 118, 101, 110, 32, 51, 48, 32, 121, 101, 97, 114, 115, 32, 97, 102, 116, 101, 114, 32, 85, 110, 105, 99, 111, 100, 101, 226, 128, 153, 115, 32, 105, 110, 99, 101, 112, 116, 105, 111, 110, 46]\n",
            "length: 616\n"
          ]
        }
      ]
    },
    {
      "cell_type": "code",
      "source": [
        "def get_stats(ids):\n",
        "    counts = {}\n",
        "    for pair in zip(ids, ids[1:]): # Pythonic way to iterate consecutive elements or (pairs).[Zip function takes List as Params and combines their 1st indexes and return tuples until the smallest list exhaust].\n",
        "        counts[pair] = counts.get(pair, 0) + 1\n",
        "    return counts\n",
        "\n",
        "stats = get_stats(tokens) # Returns a dict{} of Pair, Count.\n",
        "#print(stats)\n",
        "print(sorted(((v,k) for k,v in stats.items()), reverse=True)) # Sort w.r.t Values.[Reverse = True for Descending Order Sorting][Sorting on Tuples by default on the basis of 1st element in the tuple(v,k)]."
      ],
      "metadata": {
        "colab": {
          "base_uri": "https://localhost:8080/"
        },
        "id": "EzxNwg4gQdVu",
        "outputId": "6715e078-cc16-44f6-f56d-7f3c20288f85"
      },
      "execution_count": null,
      "outputs": [
        {
          "output_type": "stream",
          "name": "stdout",
          "text": [
            "[(20, (101, 32)), (15, (240, 159)), (12, (226, 128)), (12, (105, 110)), (10, (115, 32)), (10, (97, 110)), (10, (32, 97)), (9, (32, 116)), (8, (116, 104)), (7, (159, 135)), (7, (159, 133)), (7, (97, 114)), (6, (239, 189)), (6, (140, 240)), (6, (128, 140)), (6, (116, 32)), (6, (114, 32)), (6, (111, 114)), (6, (110, 103)), (6, (110, 100)), (6, (109, 101)), (6, (104, 101)), (6, (101, 114)), (6, (32, 105)), (5, (117, 115)), (5, (115, 116)), (5, (110, 32)), (5, (100, 101)), (5, (44, 32)), (5, (32, 115)), (4, (116, 105)), (4, (116, 101)), (4, (115, 44)), (4, (114, 105)), (4, (111, 117)), (4, (111, 100)), (4, (110, 116)), (4, (110, 105)), (4, (105, 99)), (4, (104, 97)), (4, (103, 32)), (4, (101, 97)), (4, (100, 32)), (4, (99, 111)), (4, (97, 109)), (4, (85, 110)), (4, (32, 119)), (4, (32, 111)), (4, (32, 102)), (4, (32, 85)), (3, (118, 101)), (3, (116, 115)), (3, (116, 114)), (3, (116, 111)), (3, (114, 116)), (3, (114, 115)), (3, (114, 101)), (3, (111, 102)), (3, (111, 32)), (3, (108, 108)), (3, (108, 101)), (3, (108, 32)), (3, (101, 115)), (3, (101, 110)), (3, (97, 116)), (3, (46, 32)), (3, (32, 240)), (3, (32, 112)), (3, (32, 109)), (3, (32, 100)), (3, (32, 98)), (2, (128, 153)), (2, (121, 32)), (2, (119, 104)), (2, (119, 101)), (2, (117, 112)), (2, (116, 97)), (2, (115, 117)), (2, (114, 121)), (2, (114, 111)), (2, (114, 97)), (2, (112, 114)), (2, (112, 112)), (2, (112, 111)), (2, (112, 108)), (2, (111, 110)), (2, (111, 103)), (2, (110, 115)), (2, (110, 111)), (2, (109, 109)), (2, (108, 105)), (2, (107, 101)), (2, (105, 116)), (2, (105, 111)), (2, (105, 107)), (2, (105, 100)), (2, (104, 116)), (2, (104, 111)), (2, (103, 114)), (2, (103, 104)), (2, (102, 116)), (2, (102, 111)), (2, (102, 32)), (2, (101, 226)), (2, (101, 118)), (2, (101, 112)), (2, (100, 111)), (2, (100, 105)), (2, (100, 97)), (2, (99, 97)), (2, (98, 101)), (2, (97, 108)), (2, (33, 32)), (2, (32, 114)), (2, (32, 110)), (2, (32, 99)), (1, (239, 188)), (1, (189, 143)), (1, (189, 142)), (1, (189, 137)), (1, (189, 133)), (1, (189, 132)), (1, (189, 131)), (1, (189, 32)), (1, (188, 181)), (1, (186, 226)), (1, (181, 239)), (1, (180, 226)), (1, (179, 226)), (1, (174, 226)), (1, (170, 33)), (1, (169, 226)), (1, (168, 226)), (1, (164, 240)), (1, (159, 152)), (1, (158, 240)), (1, (157, 240)), (1, (157, 32)), (1, (156, 115)), (1, (153, 116)), (1, (153, 115)), (1, (152, 240)), (1, (152, 132)), (1, (148, 226)), (1, (148, 108)), (1, (147, 240)), (1, (146, 240)), (1, (143, 239)), (1, (142, 239)), (1, (137, 239)), (1, (135, 186)), (1, (135, 180)), (1, (135, 179)), (1, (135, 174)), (1, (135, 170)), (1, (135, 169)), (1, (135, 168)), (1, (133, 164)), (1, (133, 158)), (1, (133, 157)), (1, (133, 152)), (1, (133, 148)), (1, (133, 147)), (1, (133, 146)), (1, (133, 33)), (1, (132, 239)), (1, (132, 32)), (1, (131, 239)), (1, (128, 189)), (1, (128, 157)), (1, (128, 156)), (1, (128, 148)), (1, (122, 101)), (1, (121, 115)), (1, (121, 101)), (1, (120, 101)), (1, (119, 111)), (1, (119, 105)), (1, (119, 99)), (1, (119, 97)), (1, (119, 32)), (1, (118, 105)), (1, (117, 116)), (1, (117, 114)), (1, (117, 103)), (1, (116, 119)), (1, (116, 116)), (1, (116, 108)), (1, (116, 63)), (1, (115, 226)), (1, (115, 111)), (1, (115, 105)), (1, (115, 101)), (1, (115, 97)), (1, (114, 117)), (1, (114, 108)), (1, (114, 100)), (1, (114, 95)), (1, (112, 116)), (1, (112, 97)), (1, (111, 122)), (1, (111, 119)), (1, (111, 116)), (1, (111, 108)), (1, (110, 226)), (1, (110, 110)), (1, (110, 101)), (1, (110, 99)), (1, (110, 97)), (1, (110, 46)), (1, (109, 121)), (1, (109, 111)), (1, (109, 105)), (1, (108, 117)), (1, (108, 100)), (1, (108, 97)), (1, (107, 110)), (1, (105, 118)), (1, (105, 109)), (1, (105, 108)), (1, (105, 103)), (1, (104, 105)), (1, (103, 115)), (1, (103, 101)), (1, (103, 46)), (1, (102, 105)), (1, (102, 101)), (1, (101, 120)), (1, (101, 109)), (1, (101, 46)), (1, (101, 44)), (1, (100, 119)), (1, (100, 45)), (1, (99, 104)), (1, (99, 101)), (1, (98, 115)), (1, (98, 108)), (1, (97, 119)), (1, (97, 103)), (1, (97, 102)), (1, (97, 98)), (1, (97, 32)), (1, (95, 116)), (1, (87, 101)), (1, (84, 104)), (1, (83, 116)), (1, (73, 32)), (1, (66, 117)), (1, (63, 41)), (1, (51, 48)), (1, (48, 32)), (1, (45, 112)), (1, (41, 46)), (1, (40, 119)), (1, (32, 226)), (1, (32, 121)), (1, (32, 118)), (1, (32, 117)), (1, (32, 108)), (1, (32, 107)), (1, (32, 104)), (1, (32, 101)), (1, (32, 87)), (1, (32, 84)), (1, (32, 83)), (1, (32, 73)), (1, (32, 66)), (1, (32, 51)), (1, (32, 40))]\n"
          ]
        }
      ]
    },
    {
      "cell_type": "code",
      "source": [
        "top_pair = max(stats, key=stats.get) # Ranking on the basis of Value i.e.('stats.get' fetches value).\n",
        "top_pair"
      ],
      "metadata": {
        "colab": {
          "base_uri": "https://localhost:8080/"
        },
        "id": "kMRk-VanquWn",
        "outputId": "3a9a800c-690e-4474-dcd7-e0c05510e76c"
      },
      "execution_count": null,
      "outputs": [
        {
          "output_type": "execute_result",
          "data": {
            "text/plain": [
              "(101, 32)"
            ]
          },
          "metadata": {},
          "execution_count": 8
        }
      ]
    },
    {
      "cell_type": "code",
      "source": [
        "def merge(ids, pair, idx): # [ids = Token: List[int] ; idx = new index of pair].\n",
        "  # in the list of ints (ids), replace all consecutive occurences of pair with the new token idx\n",
        "  newids = [] # Stores the new indices.\n",
        "  i = 0\n",
        "  while i < len(ids):\n",
        "    # if we are not at the very last position AND the pair matches, replace it\n",
        "    if i < len(ids) - 1 and ids[i] == pair[0] and ids[i+1] == pair[1]: # Handle edge case for last element index.\n",
        "      newids.append(idx) # Rewrite the new idx.\n",
        "      i += 2 # Skip over the entire pair.\n",
        "    else:\n",
        "      newids.append(ids[i]) # Copy the element/idx if no match found.\n",
        "      i += 1 # Skip by 1 as no pair scenario.\n",
        "  return newids\n",
        "\n",
        "print(merge([5, 6, 6, 7, 9, 1], (6, 7), 99)) # The whole pair will be replaced by 99 and hence the data is compressed.\n",
        "\n",
        "tokens2 = merge(tokens, top_pair, 256)\n",
        "print(tokens2)\n",
        "print(\"length:\", len(tokens2)) # Tokens -= 20 as Max Pair occured 20 times && Vocab_size += 1."
      ],
      "metadata": {
        "colab": {
          "base_uri": "https://localhost:8080/"
        },
        "id": "i71O0E0uqytK",
        "outputId": "d50945b1-c3f9-41b2-a80c-1407b569cd91"
      },
      "execution_count": null,
      "outputs": [
        {
          "output_type": "stream",
          "name": "stdout",
          "text": [
            "[5, 6, 99, 9, 1]\n",
            "[239, 188, 181, 239, 189, 142, 239, 189, 137, 239, 189, 131, 239, 189, 143, 239, 189, 132, 239, 189, 133, 33, 32, 240, 159, 133, 164, 240, 159, 133, 157, 240, 159, 133, 152, 240, 159, 133, 146, 240, 159, 133, 158, 240, 159, 133, 147, 240, 159, 133, 148, 226, 128, 189, 32, 240, 159, 135, 186, 226, 128, 140, 240, 159, 135, 179, 226, 128, 140, 240, 159, 135, 174, 226, 128, 140, 240, 159, 135, 168, 226, 128, 140, 240, 159, 135, 180, 226, 128, 140, 240, 159, 135, 169, 226, 128, 140, 240, 159, 135, 170, 33, 32, 240, 159, 152, 132, 32, 84, 104, 256, 118, 101, 114, 121, 32, 110, 97, 109, 256, 115, 116, 114, 105, 107, 101, 115, 32, 102, 101, 97, 114, 32, 97, 110, 100, 32, 97, 119, 256, 105, 110, 116, 111, 32, 116, 104, 256, 104, 101, 97, 114, 116, 115, 32, 111, 102, 32, 112, 114, 111, 103, 114, 97, 109, 109, 101, 114, 115, 32, 119, 111, 114, 108, 100, 119, 105, 100, 101, 46, 32, 87, 256, 97, 108, 108, 32, 107, 110, 111, 119, 32, 119, 256, 111, 117, 103, 104, 116, 32, 116, 111, 32, 226, 128, 156, 115, 117, 112, 112, 111, 114, 116, 32, 85, 110, 105, 99, 111, 100, 101, 226, 128, 157, 32, 105, 110, 32, 111, 117, 114, 32, 115, 111, 102, 116, 119, 97, 114, 256, 40, 119, 104, 97, 116, 101, 118, 101, 114, 32, 116, 104, 97, 116, 32, 109, 101, 97, 110, 115, 226, 128, 148, 108, 105, 107, 256, 117, 115, 105, 110, 103, 32, 119, 99, 104, 97, 114, 95, 116, 32, 102, 111, 114, 32, 97, 108, 108, 32, 116, 104, 256, 115, 116, 114, 105, 110, 103, 115, 44, 32, 114, 105, 103, 104, 116, 63, 41, 46, 32, 66, 117, 116, 32, 85, 110, 105, 99, 111, 100, 256, 99, 97, 110, 32, 98, 256, 97, 98, 115, 116, 114, 117, 115, 101, 44, 32, 97, 110, 100, 32, 100, 105, 118, 105, 110, 103, 32, 105, 110, 116, 111, 32, 116, 104, 256, 116, 104, 111, 117, 115, 97, 110, 100, 45, 112, 97, 103, 256, 85, 110, 105, 99, 111, 100, 256, 83, 116, 97, 110, 100, 97, 114, 100, 32, 112, 108, 117, 115, 32, 105, 116, 115, 32, 100, 111, 122, 101, 110, 115, 32, 111, 102, 32, 115, 117, 112, 112, 108, 101, 109, 101, 110, 116, 97, 114, 121, 32, 97, 110, 110, 101, 120, 101, 115, 44, 32, 114, 101, 112, 111, 114, 116, 115, 44, 32, 97, 110, 100, 32, 110, 111, 116, 101, 115, 32, 99, 97, 110, 32, 98, 256, 109, 111, 114, 256, 116, 104, 97, 110, 32, 97, 32, 108, 105, 116, 116, 108, 256, 105, 110, 116, 105, 109, 105, 100, 97, 116, 105, 110, 103, 46, 32, 73, 32, 100, 111, 110, 226, 128, 153, 116, 32, 98, 108, 97, 109, 256, 112, 114, 111, 103, 114, 97, 109, 109, 101, 114, 115, 32, 102, 111, 114, 32, 115, 116, 105, 108, 108, 32, 102, 105, 110, 100, 105, 110, 103, 32, 116, 104, 256, 119, 104, 111, 108, 256, 116, 104, 105, 110, 103, 32, 109, 121, 115, 116, 101, 114, 105, 111, 117, 115, 44, 32, 101, 118, 101, 110, 32, 51, 48, 32, 121, 101, 97, 114, 115, 32, 97, 102, 116, 101, 114, 32, 85, 110, 105, 99, 111, 100, 101, 226, 128, 153, 115, 32, 105, 110, 99, 101, 112, 116, 105, 111, 110, 46]\n",
            "length: 596\n"
          ]
        }
      ]
    },
    {
      "cell_type": "code",
      "source": [
        "import unicodedata\n",
        "def replace_control_characters(s: str) -> str:\n",
        "    # we don't want to print control characters\n",
        "    # which distort the output (e.g. \\n or much worse)\n",
        "    chars = []\n",
        "    for ch in s:\n",
        "        if unicodedata.category(ch)[0] != \"C\":\n",
        "            chars.append(ch) # this character is ok\n",
        "        else:\n",
        "            chars.append(f\"\\\\u{ord(ch):04x}\") # escape\n",
        "    return \"\".join(chars)"
      ],
      "metadata": {
        "id": "1Oe-Irn5YN2I"
      },
      "execution_count": null,
      "outputs": []
    },
    {
      "cell_type": "code",
      "source": [
        "def get_stats(ids):\n",
        "    counts = {}\n",
        "    for pair in zip(ids, ids[1:]):\n",
        "        counts[pair] = counts.get(pair, 0) + 1\n",
        "    return counts\n",
        "\n",
        "def merge(ids, pair, idx):\n",
        "  newids = []\n",
        "  i = 0\n",
        "  while i < len(ids):\n",
        "    if i < len(ids) - 1 and ids[i] == pair[0] and ids[i+1] == pair[1]:\n",
        "      newids.append(idx)\n",
        "      i += 2\n",
        "    else:\n",
        "      newids.append(ids[i])\n",
        "      i += 1\n",
        "  return newids\n",
        "\n",
        "vocab_size = 276 # The desired final vocabulary size.\n",
        "num_merges = vocab_size - 256\n",
        "ids = list(tokens) # Copy so we don't destroy the original list.\n",
        "\n",
        "merges = {} # (int, int) -> int\n",
        "for i in range(num_merges):\n",
        "  stats = get_stats(ids) # Get pairs of Values/Counts.\n",
        "  pair = max(stats, key=stats.get) # Pop the Max Count/Value pair.\n",
        "  idx = 256 + i # New Vocab Index ; OG:[0-255].\n",
        "  print(f\"merging {pair} into a new token {idx}\")\n",
        "  ids = merge(ids, pair, idx)\n",
        "  merges[pair] = idx"
      ],
      "metadata": {
        "colab": {
          "base_uri": "https://localhost:8080/"
        },
        "id": "nL9O0h2hrQft",
        "outputId": "da27fee2-340c-4c35-f5ae-c7169676fc6b"
      },
      "execution_count": null,
      "outputs": [
        {
          "output_type": "stream",
          "name": "stdout",
          "text": [
            "merging (101, 32) into a new token 256\n",
            "merging (240, 159) into a new token 257\n",
            "merging (226, 128) into a new token 258\n",
            "merging (105, 110) into a new token 259\n",
            "merging (115, 32) into a new token 260\n",
            "merging (97, 110) into a new token 261\n",
            "merging (116, 104) into a new token 262\n",
            "merging (257, 133) into a new token 263\n",
            "merging (257, 135) into a new token 264\n",
            "merging (97, 114) into a new token 265\n",
            "merging (239, 189) into a new token 266\n",
            "merging (258, 140) into a new token 267\n",
            "merging (267, 264) into a new token 268\n",
            "merging (101, 114) into a new token 269\n",
            "merging (111, 114) into a new token 270\n",
            "merging (116, 32) into a new token 271\n",
            "merging (259, 103) into a new token 272\n",
            "merging (115, 116) into a new token 273\n",
            "merging (261, 100) into a new token 274\n",
            "merging (32, 262) into a new token 275\n"
          ]
        }
      ]
    },
    {
      "cell_type": "code",
      "source": [
        "print(\"tokens length:\", len(tokens))\n",
        "print(\"New Token/ids length:\", len(ids))\n",
        "print(f\"compression ratio: {len(tokens) / len(ids):.2f}X\")"
      ],
      "metadata": {
        "colab": {
          "base_uri": "https://localhost:8080/"
        },
        "id": "culJXIwguV1M",
        "outputId": "f84e6e9e-0d0b-4f90-dca8-524ca1692ffe"
      },
      "execution_count": null,
      "outputs": [
        {
          "output_type": "stream",
          "name": "stdout",
          "text": [
            "tokens length: 616\n",
            "New Token/ids length: 451\n",
            "compression ratio: 1.37X\n"
          ]
        }
      ]
    },
    {
      "cell_type": "markdown",
      "source": [
        "![image.png](data:image/png;base64,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)"
      ],
      "metadata": {
        "id": "Qpn9ZCXoxsmj"
      }
    },
    {
      "cell_type": "code",
      "source": [
        "# Make a Decoder which Converts Tokens to Raw Text:\n",
        "vocab = {idx : bytes([idx]) for idx in range(256)} # If no. in range[0-255] then convert them back to byte code and index them in a dict{}.[For idx > 255 ; We dont Convert them into Bytes].\n",
        "for (a, b), idx in merges.items():\n",
        "  vocab[idx] = vocab[a] + vocab[b] # Addition of Byte pairs back to a single number.\n",
        "\n",
        "def decode(ids):\n",
        "  # given ids (list of integers), returns Python String.\n",
        "  tokens = b\"\".join(vocab[idx] for idx in ids) # Byte Join (b\"\").\n",
        "  text = tokens.decode(\"utf-8\", errors=\"replace\") # errors=\"replace\" ensures accurate conversion to utf-8 format.\n",
        "  return text\n",
        "\n",
        "print(decode([128]))"
      ],
      "metadata": {
        "colab": {
          "base_uri": "https://localhost:8080/"
        },
        "id": "gxErqly_x6tk",
        "outputId": "6d5f5984-db4a-4c49-dc3f-6cab42b85e11"
      },
      "execution_count": null,
      "outputs": [
        {
          "output_type": "stream",
          "name": "stdout",
          "text": [
            "�\n"
          ]
        }
      ]
    },
    {
      "cell_type": "code",
      "source": [
        "next(iter(merges.items())), next(iter(vocab.items())), list(vocab)[0], next(iter(stats.items()))"
      ],
      "metadata": {
        "colab": {
          "base_uri": "https://localhost:8080/"
        },
        "id": "9ctRUBgl0SeZ",
        "outputId": "216fcbdf-7893-436e-d129-f7b04574f81d"
      },
      "execution_count": null,
      "outputs": [
        {
          "output_type": "execute_result",
          "data": {
            "text/plain": [
              "(((101, 32), 256), (0, b'\\x00'), 0, ((239, 188), 1))"
            ]
          },
          "metadata": {},
          "execution_count": 13
        }
      ]
    },
    {
      "cell_type": "code",
      "source": [
        "# Make an Encoder that Converts Raw Text to Tokens:\n",
        "def encode(text): # Another Text but built by using the Same Vocab.\n",
        "  # given a string, return list of integers (the tokens).\n",
        "  tokens = list(text.encode(\"utf-8\"))\n",
        "  while len(tokens) >= 2: # Base Case of Input Text.\n",
        "    stats = get_stats(tokens) # returns a Dict{} of pairs with their counts.\n",
        "    pair = min(stats, key=lambda p: merges.get(p, float(\"inf\"))) # Get min w.r.t function: p represents each Key (by default) in stats as min() iterates over it. [Return merges.get(infinite) does nothing if the pair isnt found]\n",
        "    if pair not in merges: # min() finds the key in stats that has the smallest corresponding value in merges (or float(\"inf\") if missing).\n",
        "      break # nothing else can be merged in text pairs.\n",
        "    idx = merges[pair]\n",
        "    tokens = merge(tokens, pair, idx)\n",
        "  return tokens\n",
        "\n",
        "print(encode(\"Hello\"))"
      ],
      "metadata": {
        "colab": {
          "base_uri": "https://localhost:8080/"
        },
        "id": "Bzb7lKuE0bLq",
        "outputId": "c1ca2467-cee7-45d4-e249-ba8356011808"
      },
      "execution_count": null,
      "outputs": [
        {
          "output_type": "stream",
          "name": "stdout",
          "text": [
            "[72, 101, 108, 108, 111]\n"
          ]
        }
      ]
    },
    {
      "cell_type": "markdown",
      "source": [
        "**Note:** If the text is \"hello hello\", the most frequent pair (like (\"he\", 2)) would be the one chosen for merging first, reducing the size of the text in the most optimal way. Thats why we use Min() function above."
      ],
      "metadata": {
        "id": "kXaWKjo-_jXL"
      }
    },
    {
      "cell_type": "code",
      "source": [
        "valtext = \"Many common characters, including numerals, punctuation, and other symbols, are unified within the standard and are not treated as specific to any given writing system. Unicode encodes thousands of emoji, with the continued development thereof conducted by the Consortium as a part of the standard.[4] Moreover, the widespread adoption of Unicode was in large part responsible for the initial popularization of emoji outside of Japan. Unicode is ultimately capable of encoding more than 1.1 million characters.\"\n",
        "valtext2 = decode(encode(valtext))\n",
        "print(valtext2 == valtext)"
      ],
      "metadata": {
        "colab": {
          "base_uri": "https://localhost:8080/"
        },
        "id": "RNYGji0XZYck",
        "outputId": "6431ee1f-44f3-46ae-98af-baa686a15054"
      },
      "execution_count": null,
      "outputs": [
        {
          "output_type": "stream",
          "name": "stdout",
          "text": [
            "True\n"
          ]
        }
      ]
    },
    {
      "cell_type": "code",
      "source": [
        "# Optimization on Raw Text Before Merging:\n",
        "import regex as re\n",
        "# 've , 't, 're , 'll, etc. are common occurences in English so we want the model to learn them so they will come out separately.\n",
        "# \\p{L}: Followed by a Space it Matches any Unicode letter (equivalent to [a-zA-Z] in ASCII but also includes characters from other languages, like é, ß, ж, etc.).[\\p{N} : For Numbers].\n",
        "# +: Matches one or more occurrences of the preceding token (\\p{L}), meaning it matches full words consisting of letters.\n",
        "# \\s+: Matches one or more whitespace characters (spaces, tabs, newlines, etc.).\n",
        "# ?!\\S: ensures that the whitespace is not followed by a non-whitespace character.\n",
        "# ?[^\\s\\p{L}\\p{N}]+ : Matches anything that is neither a Letter nor a Number i.e.(For Punctuations).\n",
        "gpt2pat = re.compile(r\"\"\"'s|'t|'re|'ve|'m|'ll|'d| ?\\p{L}+| ?\\p{N}+| ?[^\\s\\p{L}\\p{N}]+|\\s+(?!\\S)|\\s+\"\"\")\n",
        "\n",
        "print(re.findall(gpt2pat, \"Hello've world123 how's are    you!!!?\")) # Returns a List of all strings that matched the regex."
      ],
      "metadata": {
        "id": "4wLHyYmJ6OhX",
        "colab": {
          "base_uri": "https://localhost:8080/"
        },
        "outputId": "af635638-0caf-4ceb-d453-c39b71f89699"
      },
      "execution_count": null,
      "outputs": [
        {
          "output_type": "stream",
          "name": "stdout",
          "text": [
            "['Hello', \"'ve\", ' world', '123', ' how', \"'s\", ' are', '   ', ' you', '!!!?']\n"
          ]
        }
      ]
    },
    {
      "cell_type": "markdown",
      "source": [
        "**Note:** The reason we do this is to merge words with the same context. Like ***Hello***'s any two chars will merge and not ***{'o' with '(Apostrophe)}*** or ***{'d','1'}*** or ***{e,\" \"(space)}***, etc. Merging will now be apllied to each word of this List separately."
      ],
      "metadata": {
        "id": "sntGOEwjZh3c"
      }
    },
    {
      "cell_type": "code",
      "source": [
        "!pip install tiktoken # Library for Tokenization of any text [By OpenAI]."
      ],
      "metadata": {
        "colab": {
          "base_uri": "https://localhost:8080/"
        },
        "id": "-C2KeZhvaY6S",
        "outputId": "2933f5f3-4ae6-4032-dd3b-5dfe4ae55d5f"
      },
      "execution_count": null,
      "outputs": [
        {
          "output_type": "stream",
          "name": "stdout",
          "text": [
            "Collecting tiktoken\n",
            "  Downloading tiktoken-0.8.0-cp311-cp311-manylinux_2_17_x86_64.manylinux2014_x86_64.whl.metadata (6.6 kB)\n",
            "Requirement already satisfied: regex>=2022.1.18 in /usr/local/lib/python3.11/dist-packages (from tiktoken) (2024.11.6)\n",
            "Requirement already satisfied: requests>=2.26.0 in /usr/local/lib/python3.11/dist-packages (from tiktoken) (2.32.3)\n",
            "Requirement already satisfied: charset-normalizer<4,>=2 in /usr/local/lib/python3.11/dist-packages (from requests>=2.26.0->tiktoken) (3.4.1)\n",
            "Requirement already satisfied: idna<4,>=2.5 in /usr/local/lib/python3.11/dist-packages (from requests>=2.26.0->tiktoken) (3.10)\n",
            "Requirement already satisfied: urllib3<3,>=1.21.1 in /usr/local/lib/python3.11/dist-packages (from requests>=2.26.0->tiktoken) (2.3.0)\n",
            "Requirement already satisfied: certifi>=2017.4.17 in /usr/local/lib/python3.11/dist-packages (from requests>=2.26.0->tiktoken) (2025.1.31)\n",
            "Downloading tiktoken-0.8.0-cp311-cp311-manylinux_2_17_x86_64.manylinux2014_x86_64.whl (1.2 MB)\n",
            "\u001b[2K   \u001b[90m━━━━━━━━━━━━━━━━━━━━━━━━━━━━━━━━━━━━━━━━\u001b[0m \u001b[32m1.2/1.2 MB\u001b[0m \u001b[31m21.4 MB/s\u001b[0m eta \u001b[36m0:00:00\u001b[0m\n",
            "\u001b[?25hInstalling collected packages: tiktoken\n",
            "Successfully installed tiktoken-0.8.0\n"
          ]
        }
      ]
    },
    {
      "cell_type": "code",
      "source": [
        "import tiktoken\n",
        "# GPT-2's Tokenizer does not merge spaces which leads to Large Encoding of Input (Where 3 tokens = 220 (space)) and is also computationally inefficient.\n",
        "enc1 = tiktoken.get_encoding(\"gpt2\")\n",
        "print(enc1.encode(\"    hello world!!!\"))\n",
        "\n",
        "dec = enc1.decode(enc1.encode(\"Random Text\")) # OpenAI Decoder needs an Encoded Input.\n",
        "\n",
        "# GPT-4 Tokenizer merges spaces.\n",
        "enc2 = tiktoken.get_encoding(\"cl100k_base\")\n",
        "print(enc2.encode(\"    hello world!!!\")) # It treats multiple whitespaces as a Single Token = 262."
      ],
      "metadata": {
        "colab": {
          "base_uri": "https://localhost:8080/"
        },
        "id": "WCvVezddf5_1",
        "outputId": "f081eba1-485f-4670-c8d9-88ff23d6dc63"
      },
      "execution_count": null,
      "outputs": [
        {
          "output_type": "stream",
          "name": "stdout",
          "text": [
            "[220, 220, 220, 23748, 995, 10185]\n",
            "[262, 24748, 1917, 12340]\n"
          ]
        }
      ]
    },
    {
      "cell_type": "code",
      "source": [
        "!wget https://openaipublic.blob.core.windows.net/gpt-2/models/1558M/vocab.bpe\n",
        "!wget https://openaipublic.blob.core.windows.net/gpt-2/models/1558M/encoder.json\n",
        "import os, json\n",
        "\n",
        "with open('encoder.json', 'r') as f:\n",
        "    encoder = json.load(f) # <--- ~equivalent to our \"vocab\"\n",
        "\n",
        "with open('vocab.bpe', 'r', encoding=\"utf-8\") as f:\n",
        "    bpe_data = f.read()\n",
        "bpe_merges = [tuple(merge_str.split()) for merge_str in bpe_data.split('\\n')[1:-1]]\n",
        "# ^---- ~equivalent to our \"merges"
      ],
      "metadata": {
        "colab": {
          "base_uri": "https://localhost:8080/"
        },
        "id": "A2iO061rnIsR",
        "outputId": "f318f920-3cbe-4475-e093-e7303e8b9557"
      },
      "execution_count": null,
      "outputs": [
        {
          "output_type": "stream",
          "name": "stdout",
          "text": [
            "--2025-02-07 18:35:28--  https://openaipublic.blob.core.windows.net/gpt-2/models/1558M/vocab.bpe\n",
            "Resolving openaipublic.blob.core.windows.net (openaipublic.blob.core.windows.net)... 57.150.97.129\n",
            "Connecting to openaipublic.blob.core.windows.net (openaipublic.blob.core.windows.net)|57.150.97.129|:443... connected.\n",
            "HTTP request sent, awaiting response... 200 OK\n",
            "Length: 456318 (446K) [application/octet-stream]\n",
            "Saving to: ‘vocab.bpe’\n",
            "\n",
            "vocab.bpe           100%[===================>] 445.62K   585KB/s    in 0.8s    \n",
            "\n",
            "2025-02-07 18:35:29 (585 KB/s) - ‘vocab.bpe’ saved [456318/456318]\n",
            "\n",
            "--2025-02-07 18:35:29--  https://openaipublic.blob.core.windows.net/gpt-2/models/1558M/encoder.json\n",
            "Resolving openaipublic.blob.core.windows.net (openaipublic.blob.core.windows.net)... 57.150.97.129\n",
            "Connecting to openaipublic.blob.core.windows.net (openaipublic.blob.core.windows.net)|57.150.97.129|:443... connected.\n",
            "HTTP request sent, awaiting response... 200 OK\n",
            "Length: 1042301 (1018K) [application/json]\n",
            "Saving to: ‘encoder.json’\n",
            "\n",
            "encoder.json        100%[===================>]   1018K   828KB/s    in 1.2s    \n",
            "\n",
            "2025-02-07 18:35:31 (828 KB/s) - ‘encoder.json’ saved [1042301/1042301]\n",
            "\n"
          ]
        }
      ]
    },
    {
      "cell_type": "code",
      "source": [
        "# GPT-2 has Vocab size of 50257:\n",
        "len(encoder) # 256 raw byte tokens + 50,000 merges. +1 special token i.e(<EOT>)"
      ],
      "metadata": {
        "colab": {
          "base_uri": "https://localhost:8080/"
        },
        "id": "EKYrGqIzg1ek",
        "outputId": "9792d7b6-b0bd-4abd-a9f0-00b448f2ccc8"
      },
      "execution_count": null,
      "outputs": [
        {
          "output_type": "execute_result",
          "data": {
            "text/plain": [
              "50257"
            ]
          },
          "metadata": {},
          "execution_count": 20
        }
      ]
    },
    {
      "cell_type": "code",
      "source": [
        "encoder['<|endoftext|>'] # Range[0-50256] ; So this is the Last Character.[This doesnt merge]."
      ],
      "metadata": {
        "colab": {
          "base_uri": "https://localhost:8080/"
        },
        "id": "WvnnEjREm5Fq",
        "outputId": "14e49f8d-8c19-4612-ee1c-d2ec48f4a3c7"
      },
      "execution_count": null,
      "outputs": [
        {
          "output_type": "execute_result",
          "data": {
            "text/plain": [
              "50256"
            ]
          },
          "metadata": {},
          "execution_count": 21
        }
      ]
    },
    {
      "cell_type": "code",
      "source": [
        "def render_token(t: bytes) -> str:\n",
        "    # pretty print a token, escaping control characters\n",
        "    s = t.decode('utf-8', errors='replace')\n",
        "    s = replace_control_characters(s)\n",
        "    return s"
      ],
      "metadata": {
        "id": "ZHAqvyBYY4d3"
      },
      "execution_count": null,
      "outputs": []
    },
    {
      "cell_type": "code",
      "source": [
        "# To Summarize:\n",
        "class Tokenizer:\n",
        "    \"\"\"Base class for Tokenizers\"\"\"\n",
        "\n",
        "    def __init__(self):\n",
        "        # default: vocab size of 256 (all bytes), no merges, no patterns\n",
        "        self.merges = {} # (int, int) -> int\n",
        "        self.pattern = \"\" # str\n",
        "        self.special_tokens = {} # str -> int, e.g. {'<|endoftext|>': 100257}\n",
        "        self.vocab = self._build_vocab() # int -> bytes\n",
        "\n",
        "    def train(self, text, vocab_size, verbose=False):\n",
        "        # Tokenizer can train a vocabulary of size vocab_size from text\n",
        "        raise NotImplementedError\n",
        "\n",
        "    def encode(self, text):\n",
        "        # Tokenizer can encode a string into a list of integers\n",
        "        raise NotImplementedError\n",
        "\n",
        "    def decode(self, ids):\n",
        "        # Tokenizer can decode a list of integers into a string\n",
        "        raise NotImplementedError\n",
        "\n",
        "    def _build_vocab(self):\n",
        "        # vocab is simply and deterministically derived from merges\n",
        "        vocab = {idx: bytes([idx]) for idx in range(256)}\n",
        "        for (p0, p1), idx in self.merges.items():\n",
        "            vocab[idx] = vocab[p0] + vocab[p1]\n",
        "        for special, idx in self.special_tokens.items():\n",
        "            vocab[idx] = special.encode(\"utf-8\")\n",
        "        return vocab\n",
        "\n",
        "    def save(self, file_prefix):\n",
        "        \"\"\"\n",
        "        Saves two files: file_prefix.vocab and file_prefix.model\n",
        "        This is inspired (but not equivalent to!) sentencepiece's model saving:\n",
        "        - model file is the critical one, intended for load()\n",
        "        - vocab file is just a pretty printed version for human inspection only\n",
        "        \"\"\"\n",
        "        # write the model: to be used in load() later\n",
        "        model_file = file_prefix + \".model\"\n",
        "        with open(model_file, 'w') as f:\n",
        "            # write the version, pattern and merges, that's all that's needed\n",
        "            f.write(\"minbpe v1\\n\")\n",
        "            f.write(f\"{self.pattern}\\n\")\n",
        "            # write the special tokens, first the number of them, then each one\n",
        "            f.write(f\"{len(self.special_tokens)}\\n\")\n",
        "            for special, idx in self.special_tokens.items():\n",
        "                f.write(f\"{special} {idx}\\n\")\n",
        "            # the merges dict\n",
        "            for idx1, idx2 in self.merges:\n",
        "                f.write(f\"{idx1} {idx2}\\n\")\n",
        "        # write the vocab: for the human to look at\n",
        "        vocab_file = file_prefix + \".vocab\"\n",
        "        inverted_merges = {idx: pair for pair, idx in self.merges.items()}\n",
        "        with open(vocab_file, \"w\", encoding=\"utf-8\") as f:\n",
        "            for idx, token in self.vocab.items():\n",
        "                # note: many tokens may be partial utf-8 sequences\n",
        "                # and cannot be decoded into valid strings. Here we're using\n",
        "                # errors='replace' to replace them with the replacement char �.\n",
        "                # this also means that we couldn't possibly use .vocab in load()\n",
        "                # because decoding in this way is a lossy operation!\n",
        "                s = render_token(token)\n",
        "                # find the children of this token, if any\n",
        "                if idx in inverted_merges:\n",
        "                    # if this token has children, render it nicely as a merge\n",
        "                    idx0, idx1 = inverted_merges[idx]\n",
        "                    s0 = render_token(self.vocab[idx0])\n",
        "                    s1 = render_token(self.vocab[idx1])\n",
        "                    f.write(f\"[{s0}][{s1}] -> [{s}] {idx}\\n\")\n",
        "                else:\n",
        "                    # otherwise this is leaf token, just print it\n",
        "                    # (this should just be the first 256 tokens, the bytes)\n",
        "                    f.write(f\"[{s}] {idx}\\n\")\n",
        "\n",
        "    def load(self, model_file):\n",
        "        \"\"\"Inverse of save() but only for the model file\"\"\"\n",
        "        assert model_file.endswith(\".model\")\n",
        "        # read the model file\n",
        "        merges = {}\n",
        "        special_tokens = {}\n",
        "        idx = 256\n",
        "        with open(model_file, 'r', encoding=\"utf-8\") as f:\n",
        "            # read the version\n",
        "            version = f.readline().strip()\n",
        "            assert version == \"minbpe v1\"\n",
        "            # read the pattern\n",
        "            self.pattern = f.readline().strip()\n",
        "            # read the special tokens\n",
        "            num_special = int(f.readline().strip())\n",
        "            for _ in range(num_special):\n",
        "                special, special_idx = f.readline().strip().split()\n",
        "                special_tokens[special] = int(special_idx)\n",
        "            # read the merges\n",
        "            for line in f:\n",
        "                idx1, idx2 = map(int, line.split())\n",
        "                merges[(idx1, idx2)] = idx\n",
        "                idx += 1\n",
        "        self.merges = merges\n",
        "        self.special_tokens = special_tokens\n",
        "        self.vocab = self._build_vocab()"
      ],
      "metadata": {
        "id": "CeNwZWiFnc25"
      },
      "execution_count": null,
      "outputs": []
    },
    {
      "cell_type": "markdown",
      "source": [
        "# **SentencePiece** (Trains ur own Vocab from Scratch):\n",
        "\n",
        "- Commonly used because (unlike **tiktoken**) it can efficiently both train and inference BPE tokenizers. It is used in both Llama and Mistral series.\n",
        "\n",
        "- **Sentencepiece** runs BPE on the Unicode code points directly! It then has an option `character_coverage` for what to do with very very rare codepoints that appear very few times, and it either maps them onto an UNK token, or if `byte_fallback` is turned on, it encodes them with utf-8 and then encodes the raw bytes instead and makes a new token itself.\n",
        "\n",
        "- **SentencePiece** allows training a custom tokenizer suited for a specific dataset, ensuring efficient tokenization.\n",
        "\n",
        "- Works well for languages with no clear word boundaries (e.g.: Chinese, Japanese, Thai, etc)."
      ],
      "metadata": {
        "id": "uwcBAggzS7ZV"
      }
    },
    {
      "cell_type": "code",
      "source": [
        "# Alternative to \"tiktoken (for GPTs)\":\n",
        "import sentencepiece as spm # Used to Train Custom"
      ],
      "metadata": {
        "id": "LfKZUwScUBv_"
      },
      "execution_count": null,
      "outputs": []
    },
    {
      "cell_type": "code",
      "execution_count": null,
      "metadata": {
        "id": "L-2m9eDeOhvq"
      },
      "outputs": [],
      "source": [
        "# write a toy.txt file with some random text\n",
        "with open(\"Text.txt\", \"w\", encoding=\"utf-8\") as f: # Create a file (if not exists) and then write to it.\n",
        "  f.write(\"SentencePiece is an unsupervised text tokenizer and detokenizer mainly for Neural Network-based text generation systems where the vocabulary size is predetermined prior to the neural model training. SentencePiece implements subword units (e.g., byte-pair-encoding (BPE) [Sennrich et al.]) and unigram language model [Kudo.]) with the extension of direct training from raw sentences. SentencePiece allows us to make a purely end-to-end system that does not depend on language-specific pre/postprocessing.\")"
      ]
    },
    {
      "cell_type": "code",
      "execution_count": null,
      "metadata": {
        "id": "rSv1vfIVOhvr"
      },
      "outputs": [],
      "source": [
        "# train a sentencepiece model on it\n",
        "# the settings here are (best effort) those used for training Llama 2\n",
        "import os\n",
        "\n",
        "options = dict(\n",
        "  # input spec\n",
        "  input=\"Text.txt\",\n",
        "  input_format=\"text\",\n",
        "  # output spec\n",
        "  model_prefix=\"tok400\", # output filename prefix\n",
        "  # algorithm spec\n",
        "  # BPE alg\n",
        "  model_type=\"bpe\",\n",
        "  vocab_size=400,\n",
        "  # normalization\n",
        "  normalization_rule_name=\"identity\", # ew, turn off normalization\n",
        "  remove_extra_whitespaces=False,\n",
        "  input_sentence_size=200000000, # max number of training sentences\n",
        "  max_sentence_length=4192, # max number of bytes per sentence\n",
        "  seed_sentencepiece_size=1000000,\n",
        "  shuffle_input_sentence=True,\n",
        "  # rare word treatment\n",
        "  character_coverage=0.99995, #[99.95%] Controls the percentage of characters in the input corpus to be included in the model’s vocabulary.[Excludes the Char that rarely occurs (Once)].\n",
        "  byte_fallback=True, # If UNK token found then Byte encode them and return a new token instead of 0.\n",
        "  # merge rules\n",
        "  split_digits=True,\n",
        "  split_by_unicode_script=True,\n",
        "  split_by_whitespace=True,\n",
        "  split_by_number=True,\n",
        "  max_sentencepiece_length=16,\n",
        "  add_dummy_prefix=True,\n",
        "  allow_whitespace_only_pieces=True,\n",
        "  # special tokens\n",
        "  unk_id=0, # the UNK token MUST exist and is encoded to 0.\n",
        "  bos_id=1, # the others are optional, set to -1 to turn off.\n",
        "  eos_id=2, # end of string.\n",
        "  pad_id=-1, # to pad strings.\n",
        "  # systems\n",
        "  num_threads=os.cpu_count(), # use ~all system resources\n",
        ")\n",
        "\n",
        "spm.SentencePieceTrainer.train(**options)\n"
      ]
    },
    {
      "cell_type": "code",
      "source": [
        "sp = spm.SentencePieceProcessor() # Creates a token400 model.\n",
        "sp.load('tok400.model') # Load it.\n",
        "vocab = [[sp.id_to_piece(idx), idx] for idx in range(sp.get_piece_size())]\n",
        "vocab"
      ],
      "metadata": {
        "colab": {
          "base_uri": "https://localhost:8080/"
        },
        "id": "pSKRycW6VepR",
        "outputId": "f3816dfc-8e28-4ac5-ad0a-6769d204766b"
      },
      "execution_count": null,
      "outputs": [
        {
          "output_type": "execute_result",
          "data": {
            "text/plain": [
              "[['<unk>', 0],\n",
              " ['<s>', 1],\n",
              " ['</s>', 2],\n",
              " ['<0x00>', 3],\n",
              " ['<0x01>', 4],\n",
              " ['<0x02>', 5],\n",
              " ['<0x03>', 6],\n",
              " ['<0x04>', 7],\n",
              " ['<0x05>', 8],\n",
              " ['<0x06>', 9],\n",
              " ['<0x07>', 10],\n",
              " ['<0x08>', 11],\n",
              " ['<0x09>', 12],\n",
              " ['<0x0A>', 13],\n",
              " ['<0x0B>', 14],\n",
              " ['<0x0C>', 15],\n",
              " ['<0x0D>', 16],\n",
              " ['<0x0E>', 17],\n",
              " ['<0x0F>', 18],\n",
              " ['<0x10>', 19],\n",
              " ['<0x11>', 20],\n",
              " ['<0x12>', 21],\n",
              " ['<0x13>', 22],\n",
              " ['<0x14>', 23],\n",
              " ['<0x15>', 24],\n",
              " ['<0x16>', 25],\n",
              " ['<0x17>', 26],\n",
              " ['<0x18>', 27],\n",
              " ['<0x19>', 28],\n",
              " ['<0x1A>', 29],\n",
              " ['<0x1B>', 30],\n",
              " ['<0x1C>', 31],\n",
              " ['<0x1D>', 32],\n",
              " ['<0x1E>', 33],\n",
              " ['<0x1F>', 34],\n",
              " ['<0x20>', 35],\n",
              " ['<0x21>', 36],\n",
              " ['<0x22>', 37],\n",
              " ['<0x23>', 38],\n",
              " ['<0x24>', 39],\n",
              " ['<0x25>', 40],\n",
              " ['<0x26>', 41],\n",
              " ['<0x27>', 42],\n",
              " ['<0x28>', 43],\n",
              " ['<0x29>', 44],\n",
              " ['<0x2A>', 45],\n",
              " ['<0x2B>', 46],\n",
              " ['<0x2C>', 47],\n",
              " ['<0x2D>', 48],\n",
              " ['<0x2E>', 49],\n",
              " ['<0x2F>', 50],\n",
              " ['<0x30>', 51],\n",
              " ['<0x31>', 52],\n",
              " ['<0x32>', 53],\n",
              " ['<0x33>', 54],\n",
              " ['<0x34>', 55],\n",
              " ['<0x35>', 56],\n",
              " ['<0x36>', 57],\n",
              " ['<0x37>', 58],\n",
              " ['<0x38>', 59],\n",
              " ['<0x39>', 60],\n",
              " ['<0x3A>', 61],\n",
              " ['<0x3B>', 62],\n",
              " ['<0x3C>', 63],\n",
              " ['<0x3D>', 64],\n",
              " ['<0x3E>', 65],\n",
              " ['<0x3F>', 66],\n",
              " ['<0x40>', 67],\n",
              " ['<0x41>', 68],\n",
              " ['<0x42>', 69],\n",
              " ['<0x43>', 70],\n",
              " ['<0x44>', 71],\n",
              " ['<0x45>', 72],\n",
              " ['<0x46>', 73],\n",
              " ['<0x47>', 74],\n",
              " ['<0x48>', 75],\n",
              " ['<0x49>', 76],\n",
              " ['<0x4A>', 77],\n",
              " ['<0x4B>', 78],\n",
              " ['<0x4C>', 79],\n",
              " ['<0x4D>', 80],\n",
              " ['<0x4E>', 81],\n",
              " ['<0x4F>', 82],\n",
              " ['<0x50>', 83],\n",
              " ['<0x51>', 84],\n",
              " ['<0x52>', 85],\n",
              " ['<0x53>', 86],\n",
              " ['<0x54>', 87],\n",
              " ['<0x55>', 88],\n",
              " ['<0x56>', 89],\n",
              " ['<0x57>', 90],\n",
              " ['<0x58>', 91],\n",
              " ['<0x59>', 92],\n",
              " ['<0x5A>', 93],\n",
              " ['<0x5B>', 94],\n",
              " ['<0x5C>', 95],\n",
              " ['<0x5D>', 96],\n",
              " ['<0x5E>', 97],\n",
              " ['<0x5F>', 98],\n",
              " ['<0x60>', 99],\n",
              " ['<0x61>', 100],\n",
              " ['<0x62>', 101],\n",
              " ['<0x63>', 102],\n",
              " ['<0x64>', 103],\n",
              " ['<0x65>', 104],\n",
              " ['<0x66>', 105],\n",
              " ['<0x67>', 106],\n",
              " ['<0x68>', 107],\n",
              " ['<0x69>', 108],\n",
              " ['<0x6A>', 109],\n",
              " ['<0x6B>', 110],\n",
              " ['<0x6C>', 111],\n",
              " ['<0x6D>', 112],\n",
              " ['<0x6E>', 113],\n",
              " ['<0x6F>', 114],\n",
              " ['<0x70>', 115],\n",
              " ['<0x71>', 116],\n",
              " ['<0x72>', 117],\n",
              " ['<0x73>', 118],\n",
              " ['<0x74>', 119],\n",
              " ['<0x75>', 120],\n",
              " ['<0x76>', 121],\n",
              " ['<0x77>', 122],\n",
              " ['<0x78>', 123],\n",
              " ['<0x79>', 124],\n",
              " ['<0x7A>', 125],\n",
              " ['<0x7B>', 126],\n",
              " ['<0x7C>', 127],\n",
              " ['<0x7D>', 128],\n",
              " ['<0x7E>', 129],\n",
              " ['<0x7F>', 130],\n",
              " ['<0x80>', 131],\n",
              " ['<0x81>', 132],\n",
              " ['<0x82>', 133],\n",
              " ['<0x83>', 134],\n",
              " ['<0x84>', 135],\n",
              " ['<0x85>', 136],\n",
              " ['<0x86>', 137],\n",
              " ['<0x87>', 138],\n",
              " ['<0x88>', 139],\n",
              " ['<0x89>', 140],\n",
              " ['<0x8A>', 141],\n",
              " ['<0x8B>', 142],\n",
              " ['<0x8C>', 143],\n",
              " ['<0x8D>', 144],\n",
              " ['<0x8E>', 145],\n",
              " ['<0x8F>', 146],\n",
              " ['<0x90>', 147],\n",
              " ['<0x91>', 148],\n",
              " ['<0x92>', 149],\n",
              " ['<0x93>', 150],\n",
              " ['<0x94>', 151],\n",
              " ['<0x95>', 152],\n",
              " ['<0x96>', 153],\n",
              " ['<0x97>', 154],\n",
              " ['<0x98>', 155],\n",
              " ['<0x99>', 156],\n",
              " ['<0x9A>', 157],\n",
              " ['<0x9B>', 158],\n",
              " ['<0x9C>', 159],\n",
              " ['<0x9D>', 160],\n",
              " ['<0x9E>', 161],\n",
              " ['<0x9F>', 162],\n",
              " ['<0xA0>', 163],\n",
              " ['<0xA1>', 164],\n",
              " ['<0xA2>', 165],\n",
              " ['<0xA3>', 166],\n",
              " ['<0xA4>', 167],\n",
              " ['<0xA5>', 168],\n",
              " ['<0xA6>', 169],\n",
              " ['<0xA7>', 170],\n",
              " ['<0xA8>', 171],\n",
              " ['<0xA9>', 172],\n",
              " ['<0xAA>', 173],\n",
              " ['<0xAB>', 174],\n",
              " ['<0xAC>', 175],\n",
              " ['<0xAD>', 176],\n",
              " ['<0xAE>', 177],\n",
              " ['<0xAF>', 178],\n",
              " ['<0xB0>', 179],\n",
              " ['<0xB1>', 180],\n",
              " ['<0xB2>', 181],\n",
              " ['<0xB3>', 182],\n",
              " ['<0xB4>', 183],\n",
              " ['<0xB5>', 184],\n",
              " ['<0xB6>', 185],\n",
              " ['<0xB7>', 186],\n",
              " ['<0xB8>', 187],\n",
              " ['<0xB9>', 188],\n",
              " ['<0xBA>', 189],\n",
              " ['<0xBB>', 190],\n",
              " ['<0xBC>', 191],\n",
              " ['<0xBD>', 192],\n",
              " ['<0xBE>', 193],\n",
              " ['<0xBF>', 194],\n",
              " ['<0xC0>', 195],\n",
              " ['<0xC1>', 196],\n",
              " ['<0xC2>', 197],\n",
              " ['<0xC3>', 198],\n",
              " ['<0xC4>', 199],\n",
              " ['<0xC5>', 200],\n",
              " ['<0xC6>', 201],\n",
              " ['<0xC7>', 202],\n",
              " ['<0xC8>', 203],\n",
              " ['<0xC9>', 204],\n",
              " ['<0xCA>', 205],\n",
              " ['<0xCB>', 206],\n",
              " ['<0xCC>', 207],\n",
              " ['<0xCD>', 208],\n",
              " ['<0xCE>', 209],\n",
              " ['<0xCF>', 210],\n",
              " ['<0xD0>', 211],\n",
              " ['<0xD1>', 212],\n",
              " ['<0xD2>', 213],\n",
              " ['<0xD3>', 214],\n",
              " ['<0xD4>', 215],\n",
              " ['<0xD5>', 216],\n",
              " ['<0xD6>', 217],\n",
              " ['<0xD7>', 218],\n",
              " ['<0xD8>', 219],\n",
              " ['<0xD9>', 220],\n",
              " ['<0xDA>', 221],\n",
              " ['<0xDB>', 222],\n",
              " ['<0xDC>', 223],\n",
              " ['<0xDD>', 224],\n",
              " ['<0xDE>', 225],\n",
              " ['<0xDF>', 226],\n",
              " ['<0xE0>', 227],\n",
              " ['<0xE1>', 228],\n",
              " ['<0xE2>', 229],\n",
              " ['<0xE3>', 230],\n",
              " ['<0xE4>', 231],\n",
              " ['<0xE5>', 232],\n",
              " ['<0xE6>', 233],\n",
              " ['<0xE7>', 234],\n",
              " ['<0xE8>', 235],\n",
              " ['<0xE9>', 236],\n",
              " ['<0xEA>', 237],\n",
              " ['<0xEB>', 238],\n",
              " ['<0xEC>', 239],\n",
              " ['<0xED>', 240],\n",
              " ['<0xEE>', 241],\n",
              " ['<0xEF>', 242],\n",
              " ['<0xF0>', 243],\n",
              " ['<0xF1>', 244],\n",
              " ['<0xF2>', 245],\n",
              " ['<0xF3>', 246],\n",
              " ['<0xF4>', 247],\n",
              " ['<0xF5>', 248],\n",
              " ['<0xF6>', 249],\n",
              " ['<0xF7>', 250],\n",
              " ['<0xF8>', 251],\n",
              " ['<0xF9>', 252],\n",
              " ['<0xFA>', 253],\n",
              " ['<0xFB>', 254],\n",
              " ['<0xFC>', 255],\n",
              " ['<0xFD>', 256],\n",
              " ['<0xFE>', 257],\n",
              " ['<0xFF>', 258],\n",
              " ['en', 259],\n",
              " ['▁t', 260],\n",
              " ['ce', 261],\n",
              " ['in', 262],\n",
              " ['ra', 263],\n",
              " ['▁a', 264],\n",
              " ['de', 265],\n",
              " ['er', 266],\n",
              " ['▁s', 267],\n",
              " ['ent', 268],\n",
              " ['or', 269],\n",
              " ['pr', 270],\n",
              " ['▁m', 271],\n",
              " ['▁u', 272],\n",
              " ['ing', 273],\n",
              " ['▁th', 274],\n",
              " ['ence', 275],\n",
              " ['entence', 276],\n",
              " ['Pi', 277],\n",
              " ['ed', 278],\n",
              " ['em', 279],\n",
              " ['ex', 280],\n",
              " ['is', 281],\n",
              " ['iz', 282],\n",
              " ['la', 283],\n",
              " ['on', 284],\n",
              " ['st', 285],\n",
              " ['▁S', 286],\n",
              " ['Pie', 287],\n",
              " ['end', 288],\n",
              " ['ext', 289],\n",
              " ['▁an', 290],\n",
              " ['▁pr', 291],\n",
              " ['▁to', 292],\n",
              " ['▁un', 293],\n",
              " ['▁the', 294],\n",
              " ['Piece', 295],\n",
              " ['▁Sentence', 296],\n",
              " ['▁SentencePiece', 297],\n",
              " ['.]', 298],\n",
              " ['Ne', 299],\n",
              " ['ag', 300],\n",
              " ['do', 301],\n",
              " ['ec', 302],\n",
              " ['gu', 303],\n",
              " ['ic', 304],\n",
              " ['ir', 305],\n",
              " ['it', 306],\n",
              " ['ly', 307],\n",
              " ['to', 308],\n",
              " ['▁(', 309],\n",
              " ['▁[', 310],\n",
              " ['▁f', 311],\n",
              " ['▁n', 312],\n",
              " ['▁w', 313],\n",
              " ['.])', 314],\n",
              " ['age', 315],\n",
              " ['del', 316],\n",
              " ['ion', 317],\n",
              " ['ken', 318],\n",
              " ['lan', 319],\n",
              " ['ral', 320],\n",
              " ['wor', 321],\n",
              " ['yst', 322],\n",
              " ['▁Ne', 323],\n",
              " ['▁al', 324],\n",
              " ['▁de', 325],\n",
              " ['▁is', 326],\n",
              " ['▁ma', 327],\n",
              " ['▁mo', 328],\n",
              " ['izer', 329],\n",
              " ['rain', 330],\n",
              " ['ural', 331],\n",
              " ['▁and', 332],\n",
              " ['▁lan', 333],\n",
              " ['▁pre', 334],\n",
              " ['guage', 335],\n",
              " ['ystem', 336],\n",
              " ['▁text', 337],\n",
              " ['▁model', 338],\n",
              " ['▁train', 339],\n",
              " ['kenizer', 340],\n",
              " ['▁system', 341],\n",
              " ['▁language', 342],\n",
              " ['▁training', 343],\n",
              " ['.,', 344],\n",
              " ['BP', 345],\n",
              " ['Ku', 346],\n",
              " ['ab', 347],\n",
              " ['as', 348],\n",
              " ['at', 349],\n",
              " ['by', 350],\n",
              " ['co', 351],\n",
              " ['es', 352],\n",
              " ['et', 353],\n",
              " ['if', 354],\n",
              " ['ig', 355],\n",
              " ['im', 356],\n",
              " ['ke', 357],\n",
              " ['lo', 358],\n",
              " ['nr', 359],\n",
              " ['oc', 360],\n",
              " ['e', 361],\n",
              " ['▁', 362],\n",
              " ['n', 363],\n",
              " ['t', 364],\n",
              " ['i', 365],\n",
              " ['r', 366],\n",
              " ['a', 367],\n",
              " ['o', 368],\n",
              " ['s', 369],\n",
              " ['d', 370],\n",
              " ['c', 371],\n",
              " ['l', 372],\n",
              " ['u', 373],\n",
              " ['g', 374],\n",
              " ['m', 375],\n",
              " ['p', 376],\n",
              " ['.', 377],\n",
              " ['h', 378],\n",
              " ['-', 379],\n",
              " ['w', 380],\n",
              " ['y', 381],\n",
              " ['P', 382],\n",
              " ['S', 383],\n",
              " ['b', 384],\n",
              " ['f', 385],\n",
              " ['k', 386],\n",
              " [')', 387],\n",
              " ['x', 388],\n",
              " ['z', 389],\n",
              " ['(', 390],\n",
              " ['N', 391],\n",
              " ['[', 392],\n",
              " [']', 393],\n",
              " ['v', 394],\n",
              " [',', 395],\n",
              " ['/', 396],\n",
              " ['B', 397],\n",
              " ['E', 398],\n",
              " ['K', 399]]"
            ]
          },
          "metadata": {},
          "execution_count": 9
        }
      ]
    },
    {
      "cell_type": "code",
      "source": [
        "ids = sp.encode(\"hello 안녕하세요\")\n",
        "print(ids)"
      ],
      "metadata": {
        "colab": {
          "base_uri": "https://localhost:8080/"
        },
        "id": "Y8e8LZsgWy6Y",
        "outputId": "b2f8cb96-99a5-4d58-95e6-c080d13d7572"
      },
      "execution_count": null,
      "outputs": [
        {
          "output_type": "stream",
          "name": "stdout",
          "text": [
            "[362, 378, 361, 372, 358, 362, 239, 152, 139, 238, 136, 152, 240, 152, 155, 239, 135, 187, 239, 157, 151]\n"
          ]
        }
      ]
    },
    {
      "cell_type": "code",
      "source": [
        "print([sp.id_to_piece(idx) for idx in ids]) # See how the korean chars are UNK but due to \"byte_fallback = True\" they get byte encoded and becomes a new token."
      ],
      "metadata": {
        "colab": {
          "base_uri": "https://localhost:8080/"
        },
        "id": "OHs-Ha2tXFq6",
        "outputId": "ecbbdb7f-682b-4a26-e6d5-a7d50f9cf676"
      },
      "execution_count": null,
      "outputs": [
        {
          "output_type": "stream",
          "name": "stdout",
          "text": [
            "['▁', 'h', 'e', 'l', 'lo', '▁', '<0xEC>', '<0x95>', '<0x88>', '<0xEB>', '<0x85>', '<0x95>', '<0xED>', '<0x95>', '<0x98>', '<0xEC>', '<0x84>', '<0xB8>', '<0xEC>', '<0x9A>', '<0x94>']\n"
          ]
        }
      ]
    }
  ]
}